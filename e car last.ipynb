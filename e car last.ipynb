{
 "cells": [
  {
   "cell_type": "code",
   "execution_count": 1,
   "id": "04aa807c",
   "metadata": {},
   "outputs": [],
   "source": [
    "import pandas as pd"
   ]
  },
  {
   "cell_type": "code",
   "execution_count": 2,
   "id": "edb6498d",
   "metadata": {
    "scrolled": true
   },
   "outputs": [],
   "source": [
    "ecar=pd.read_csv(\"C:\\\\Users\\\\nourh\\\\Desktop\\\\electric cars\\\\Cheapestelectriccars-EVDatabase.csv\")"
   ]
  },
  {
   "cell_type": "code",
   "execution_count": 3,
   "id": "7fbbd66c",
   "metadata": {},
   "outputs": [
    {
     "data": {
      "text/html": [
       "<div>\n",
       "<style scoped>\n",
       "    .dataframe tbody tr th:only-of-type {\n",
       "        vertical-align: middle;\n",
       "    }\n",
       "\n",
       "    .dataframe tbody tr th {\n",
       "        vertical-align: top;\n",
       "    }\n",
       "\n",
       "    .dataframe thead th {\n",
       "        text-align: right;\n",
       "    }\n",
       "</style>\n",
       "<table border=\"1\" class=\"dataframe\">\n",
       "  <thead>\n",
       "    <tr style=\"text-align: right;\">\n",
       "      <th></th>\n",
       "      <th>Name</th>\n",
       "      <th>Subtitle</th>\n",
       "      <th>Acceleration</th>\n",
       "      <th>TopSpeed</th>\n",
       "      <th>Range</th>\n",
       "      <th>Efficiency</th>\n",
       "      <th>FastChargeSpeed</th>\n",
       "      <th>Drive</th>\n",
       "      <th>NumberofSeats</th>\n",
       "      <th>PriceinGermany</th>\n",
       "      <th>PriceinUK</th>\n",
       "    </tr>\n",
       "  </thead>\n",
       "  <tbody>\n",
       "    <tr>\n",
       "      <th>0</th>\n",
       "      <td>Opel Ampera-e</td>\n",
       "      <td>Battery Electric Vehicle |       58 kWh</td>\n",
       "      <td>7.3 sec</td>\n",
       "      <td>150 km/h</td>\n",
       "      <td>335 km</td>\n",
       "      <td>173 Wh/km</td>\n",
       "      <td>210 km/h</td>\n",
       "      <td>Front Wheel Drive</td>\n",
       "      <td>5</td>\n",
       "      <td>€42,990</td>\n",
       "      <td>NaN</td>\n",
       "    </tr>\n",
       "    <tr>\n",
       "      <th>1</th>\n",
       "      <td>Renault Kangoo Maxi ZE 33</td>\n",
       "      <td>Battery Electric Vehicle |       31 kWh</td>\n",
       "      <td>22.4 sec</td>\n",
       "      <td>130 km/h</td>\n",
       "      <td>160 km</td>\n",
       "      <td>194 Wh/km</td>\n",
       "      <td>-</td>\n",
       "      <td>Front Wheel Drive</td>\n",
       "      <td>5</td>\n",
       "      <td>NaN</td>\n",
       "      <td>£31,680</td>\n",
       "    </tr>\n",
       "    <tr>\n",
       "      <th>2</th>\n",
       "      <td>Nissan Leaf</td>\n",
       "      <td>Battery Electric Vehicle |       36 kWh</td>\n",
       "      <td>7.9 sec</td>\n",
       "      <td>144 km/h</td>\n",
       "      <td>220 km</td>\n",
       "      <td>164 Wh/km</td>\n",
       "      <td>230 km/h</td>\n",
       "      <td>Front Wheel Drive</td>\n",
       "      <td>5</td>\n",
       "      <td>€29,990</td>\n",
       "      <td>£25,995</td>\n",
       "    </tr>\n",
       "    <tr>\n",
       "      <th>3</th>\n",
       "      <td>Audi e-tron Sportback 55 quattro</td>\n",
       "      <td>Battery Electric Vehicle |       86.5 kWh</td>\n",
       "      <td>5.7 sec</td>\n",
       "      <td>200 km/h</td>\n",
       "      <td>375 km</td>\n",
       "      <td>231 Wh/km</td>\n",
       "      <td>600 km/h</td>\n",
       "      <td>All Wheel Drive</td>\n",
       "      <td>5</td>\n",
       "      <td>NaN</td>\n",
       "      <td>£79,900</td>\n",
       "    </tr>\n",
       "    <tr>\n",
       "      <th>4</th>\n",
       "      <td>Porsche Taycan Turbo S</td>\n",
       "      <td>Battery Electric Vehicle |       83.7 kWh</td>\n",
       "      <td>2.8 sec</td>\n",
       "      <td>260 km/h</td>\n",
       "      <td>390 km</td>\n",
       "      <td>215 Wh/km</td>\n",
       "      <td>860 km/h</td>\n",
       "      <td>All Wheel Drive</td>\n",
       "      <td>4</td>\n",
       "      <td>€186,336</td>\n",
       "      <td>£138,830</td>\n",
       "    </tr>\n",
       "  </tbody>\n",
       "</table>\n",
       "</div>"
      ],
      "text/plain": [
       "                               Name  \\\n",
       "0                    Opel Ampera-e    \n",
       "1         Renault Kangoo Maxi ZE 33   \n",
       "2                      Nissan Leaf    \n",
       "3  Audi e-tron Sportback 55 quattro   \n",
       "4            Porsche Taycan Turbo S   \n",
       "\n",
       "                                    Subtitle Acceleration  TopSpeed   Range  \\\n",
       "0   Battery Electric Vehicle |       58 kWh       7.3 sec  150 km/h  335 km   \n",
       "1   Battery Electric Vehicle |       31 kWh      22.4 sec  130 km/h  160 km   \n",
       "2   Battery Electric Vehicle |       36 kWh       7.9 sec  144 km/h  220 km   \n",
       "3  Battery Electric Vehicle |       86.5 kWh      5.7 sec  200 km/h  375 km   \n",
       "4  Battery Electric Vehicle |       83.7 kWh      2.8 sec  260 km/h  390 km   \n",
       "\n",
       "  Efficiency FastChargeSpeed              Drive  NumberofSeats PriceinGermany  \\\n",
       "0  173 Wh/km        210 km/h  Front Wheel Drive              5        €42,990   \n",
       "1  194 Wh/km               -  Front Wheel Drive              5            NaN   \n",
       "2  164 Wh/km        230 km/h  Front Wheel Drive              5        €29,990   \n",
       "3  231 Wh/km        600 km/h    All Wheel Drive              5            NaN   \n",
       "4  215 Wh/km        860 km/h    All Wheel Drive              4       €186,336   \n",
       "\n",
       "  PriceinUK  \n",
       "0       NaN  \n",
       "1   £31,680  \n",
       "2   £25,995  \n",
       "3   £79,900  \n",
       "4  £138,830  "
      ]
     },
     "execution_count": 3,
     "metadata": {},
     "output_type": "execute_result"
    }
   ],
   "source": [
    "ecar.head()"
   ]
  },
  {
   "cell_type": "code",
   "execution_count": 4,
   "id": "497745a6",
   "metadata": {},
   "outputs": [
    {
     "name": "stderr",
     "output_type": "stream",
     "text": [
      "C:\\Users\\nourh\\AppData\\Local\\Temp\\ipykernel_14180\\2625778171.py:1: FutureWarning: Dropping of nuisance columns in DataFrame reductions (with 'numeric_only=None') is deprecated; in a future version this will raise TypeError.  Select only valid columns before calling the reduction.\n",
      "  ecar.sum()\n"
     ]
    },
    {
     "data": {
      "text/plain": [
       "Name               Opel Ampera-e Renault Kangoo Maxi ZE 33Nissan ...\n",
       "Subtitle           Battery Electric Vehicle |       58 kWh Batter...\n",
       "Acceleration       7.3 sec22.4 sec7.9 sec5.7 sec2.8 sec14.0 sec8....\n",
       "TopSpeed           150 km/h130 km/h144 km/h200 km/h260 km/h123 km...\n",
       "Range              335 km160 km220 km375 km390 km165 km275 km385 ...\n",
       "Efficiency         173 Wh/km194 Wh/km164 Wh/km231 Wh/km215 Wh/km2...\n",
       "FastChargeSpeed    210 km/h-230 km/h600 km/h860 km/h170 km/h260 k...\n",
       "Drive              Front Wheel DriveFront Wheel DriveFront Wheel ...\n",
       "NumberofSeats                                                    930\n",
       "dtype: object"
      ]
     },
     "execution_count": 4,
     "metadata": {},
     "output_type": "execute_result"
    }
   ],
   "source": [
    "ecar.sum()"
   ]
  },
  {
   "cell_type": "code",
   "execution_count": 5,
   "id": "73833835",
   "metadata": {},
   "outputs": [
    {
     "name": "stdout",
     "output_type": "stream",
     "text": [
      "<class 'pandas.core.frame.DataFrame'>\n",
      "RangeIndex: 180 entries, 0 to 179\n",
      "Data columns (total 11 columns):\n",
      " #   Column           Non-Null Count  Dtype \n",
      "---  ------           --------------  ----- \n",
      " 0   Name             180 non-null    object\n",
      " 1   Subtitle         180 non-null    object\n",
      " 2   Acceleration     180 non-null    object\n",
      " 3   TopSpeed         180 non-null    object\n",
      " 4   Range            180 non-null    object\n",
      " 5   Efficiency       180 non-null    object\n",
      " 6   FastChargeSpeed  180 non-null    object\n",
      " 7   Drive            180 non-null    object\n",
      " 8   NumberofSeats    180 non-null    int64 \n",
      " 9   PriceinGermany   168 non-null    object\n",
      " 10  PriceinUK        136 non-null    object\n",
      "dtypes: int64(1), object(10)\n",
      "memory usage: 15.6+ KB\n"
     ]
    }
   ],
   "source": [
    "ecar.info()"
   ]
  },
  {
   "cell_type": "code",
   "execution_count": 6,
   "id": "f22226b7",
   "metadata": {},
   "outputs": [
    {
     "data": {
      "text/plain": [
       "Index(['Name', 'Subtitle', 'Acceleration', 'TopSpeed', 'Range', 'Efficiency',\n",
       "       'FastChargeSpeed', 'Drive', 'NumberofSeats', 'PriceinGermany',\n",
       "       'PriceinUK'],\n",
       "      dtype='object')"
      ]
     },
     "execution_count": 6,
     "metadata": {},
     "output_type": "execute_result"
    }
   ],
   "source": [
    "ecar.columns"
   ]
  },
  {
   "cell_type": "code",
   "execution_count": 7,
   "id": "7cdbfc8a",
   "metadata": {},
   "outputs": [
    {
     "data": {
      "text/html": [
       "<div>\n",
       "<style scoped>\n",
       "    .dataframe tbody tr th:only-of-type {\n",
       "        vertical-align: middle;\n",
       "    }\n",
       "\n",
       "    .dataframe tbody tr th {\n",
       "        vertical-align: top;\n",
       "    }\n",
       "\n",
       "    .dataframe thead th {\n",
       "        text-align: right;\n",
       "    }\n",
       "</style>\n",
       "<table border=\"1\" class=\"dataframe\">\n",
       "  <thead>\n",
       "    <tr style=\"text-align: right;\">\n",
       "      <th></th>\n",
       "      <th>Name</th>\n",
       "      <th>Subtitle</th>\n",
       "      <th>Acceleration</th>\n",
       "      <th>TopSpeed</th>\n",
       "      <th>Range</th>\n",
       "      <th>Efficiency</th>\n",
       "      <th>FastChargeSpeed</th>\n",
       "      <th>Drive</th>\n",
       "      <th>NumberofSeats</th>\n",
       "      <th>PriceinGermany</th>\n",
       "      <th>PriceinUK</th>\n",
       "    </tr>\n",
       "  </thead>\n",
       "  <tbody>\n",
       "    <tr>\n",
       "      <th>175</th>\n",
       "      <td>MG Marvel R</td>\n",
       "      <td>Battery Electric Vehicle |       65 kWh</td>\n",
       "      <td>7.9 sec</td>\n",
       "      <td>200 km/h</td>\n",
       "      <td>340 km</td>\n",
       "      <td>191 Wh/km</td>\n",
       "      <td>390 km/h</td>\n",
       "      <td>Rear Wheel Drive</td>\n",
       "      <td>5</td>\n",
       "      <td>€40,000</td>\n",
       "      <td>NaN</td>\n",
       "    </tr>\n",
       "    <tr>\n",
       "      <th>176</th>\n",
       "      <td>Tesla Model 3 Long Range Dual Motor</td>\n",
       "      <td>Battery Electric Vehicle |       76 kWh</td>\n",
       "      <td>4.4 sec</td>\n",
       "      <td>233 km/h</td>\n",
       "      <td>490 km</td>\n",
       "      <td>155 Wh/km</td>\n",
       "      <td>820 km/h</td>\n",
       "      <td>All Wheel Drive</td>\n",
       "      <td>5</td>\n",
       "      <td>€53,560</td>\n",
       "      <td>NaN</td>\n",
       "    </tr>\n",
       "    <tr>\n",
       "      <th>177</th>\n",
       "      <td>MG MG5 EV Long Range</td>\n",
       "      <td>Battery Electric Vehicle |       57 kWh</td>\n",
       "      <td>7.7 sec</td>\n",
       "      <td>185 km/h</td>\n",
       "      <td>340 km</td>\n",
       "      <td>168 Wh/km</td>\n",
       "      <td>340 km/h</td>\n",
       "      <td>Front Wheel Drive</td>\n",
       "      <td>5</td>\n",
       "      <td>NaN</td>\n",
       "      <td>£26,495</td>\n",
       "    </tr>\n",
       "    <tr>\n",
       "      <th>178</th>\n",
       "      <td>Audi Q4 e-tron 45 quattro</td>\n",
       "      <td>Battery Electric Vehicle |       76.6 kWh</td>\n",
       "      <td>6.9 sec</td>\n",
       "      <td>180 km/h</td>\n",
       "      <td>385 km</td>\n",
       "      <td>199 Wh/km</td>\n",
       "      <td>470 km/h</td>\n",
       "      <td>All Wheel Drive</td>\n",
       "      <td>5</td>\n",
       "      <td>€50,900</td>\n",
       "      <td>NaN</td>\n",
       "    </tr>\n",
       "    <tr>\n",
       "      <th>179</th>\n",
       "      <td>Audi Q4 Sportback e-tron 40</td>\n",
       "      <td>Battery Electric Vehicle |       76.6 kWh</td>\n",
       "      <td>8.5 sec</td>\n",
       "      <td>160 km/h</td>\n",
       "      <td>425 km</td>\n",
       "      <td>180 Wh/km</td>\n",
       "      <td>520 km/h</td>\n",
       "      <td>Rear Wheel Drive</td>\n",
       "      <td>5</td>\n",
       "      <td>€49,500</td>\n",
       "      <td>NaN</td>\n",
       "    </tr>\n",
       "  </tbody>\n",
       "</table>\n",
       "</div>"
      ],
      "text/plain": [
       "                                    Name  \\\n",
       "175                         MG Marvel R    \n",
       "176  Tesla Model 3 Long Range Dual Motor   \n",
       "177                 MG MG5 EV Long Range   \n",
       "178            Audi Q4 e-tron 45 quattro   \n",
       "179          Audi Q4 Sportback e-tron 40   \n",
       "\n",
       "                                      Subtitle Acceleration  TopSpeed   Range  \\\n",
       "175   Battery Electric Vehicle |       65 kWh       7.9 sec  200 km/h  340 km   \n",
       "176   Battery Electric Vehicle |       76 kWh       4.4 sec  233 km/h  490 km   \n",
       "177   Battery Electric Vehicle |       57 kWh       7.7 sec  185 km/h  340 km   \n",
       "178  Battery Electric Vehicle |       76.6 kWh      6.9 sec  180 km/h  385 km   \n",
       "179  Battery Electric Vehicle |       76.6 kWh      8.5 sec  160 km/h  425 km   \n",
       "\n",
       "    Efficiency FastChargeSpeed              Drive  NumberofSeats  \\\n",
       "175  191 Wh/km        390 km/h   Rear Wheel Drive              5   \n",
       "176  155 Wh/km        820 km/h    All Wheel Drive              5   \n",
       "177  168 Wh/km        340 km/h  Front Wheel Drive              5   \n",
       "178  199 Wh/km        470 km/h    All Wheel Drive              5   \n",
       "179  180 Wh/km        520 km/h   Rear Wheel Drive              5   \n",
       "\n",
       "    PriceinGermany PriceinUK  \n",
       "175        €40,000       NaN  \n",
       "176        €53,560       NaN  \n",
       "177            NaN   £26,495  \n",
       "178        €50,900       NaN  \n",
       "179        €49,500       NaN  "
      ]
     },
     "execution_count": 7,
     "metadata": {},
     "output_type": "execute_result"
    }
   ],
   "source": [
    "ecar.tail()"
   ]
  },
  {
   "cell_type": "code",
   "execution_count": 8,
   "id": "b1e785d8",
   "metadata": {},
   "outputs": [],
   "source": [
    "#cleanning the data and change the name of columns as to descripe the quantity of data"
   ]
  },
  {
   "cell_type": "code",
   "execution_count": 9,
   "id": "f86d2e03",
   "metadata": {},
   "outputs": [],
   "source": [
    "ecar.rename(columns = {'Acceleration':'Acceleration_in(sec)'}, inplace = True)"
   ]
  },
  {
   "cell_type": "code",
   "execution_count": 10,
   "id": "ab01640f",
   "metadata": {},
   "outputs": [],
   "source": [
    "ecar.rename(columns = {'TopSpeed':'TopSpeed_in(km/h)'}, inplace = True)"
   ]
  },
  {
   "cell_type": "code",
   "execution_count": 11,
   "id": "670bcbd0",
   "metadata": {},
   "outputs": [],
   "source": [
    "ecar.rename(columns = {'Range':'Range_in(km)'}, inplace = True)"
   ]
  },
  {
   "cell_type": "code",
   "execution_count": 12,
   "id": "555c3104",
   "metadata": {},
   "outputs": [],
   "source": [
    "ecar.rename(columns = {'Efficiency':'Efficiency_in(Wh/km)'}, inplace = True)"
   ]
  },
  {
   "cell_type": "code",
   "execution_count": 13,
   "id": "f8e88c99",
   "metadata": {},
   "outputs": [],
   "source": [
    "ecar.rename(columns = {'FastChargeSpeed':'FastChargeSpeed_in(km/h)'}, inplace = True)"
   ]
  },
  {
   "cell_type": "code",
   "execution_count": 14,
   "id": "5e826e3e",
   "metadata": {},
   "outputs": [],
   "source": [
    "ecar.rename(columns = {'PriceinGermany':'PriceinGermany_in(€)'}, inplace = True)"
   ]
  },
  {
   "cell_type": "code",
   "execution_count": 15,
   "id": "493586e3",
   "metadata": {},
   "outputs": [],
   "source": [
    "ecar.rename(columns = {'PriceinUK':'PriceinUK_in(£)'}, inplace = True)"
   ]
  },
  {
   "cell_type": "code",
   "execution_count": 16,
   "id": "02a6c4d2",
   "metadata": {},
   "outputs": [],
   "source": [
    "ecar.rename(columns = {'Subtitle':'Subtitle_Battery Electric Vehicle(kWh)'}, inplace = True)"
   ]
  },
  {
   "cell_type": "code",
   "execution_count": 17,
   "id": "49c210cb",
   "metadata": {},
   "outputs": [],
   "source": [
    "#make data clean by deleting all sympols from data"
   ]
  },
  {
   "cell_type": "code",
   "execution_count": 18,
   "id": "bc940880",
   "metadata": {},
   "outputs": [],
   "source": [
    "ecar['Subtitle_Battery Electric Vehicle(kWh)'] = ecar['Subtitle_Battery Electric Vehicle(kWh)'].str.replace(\"kWh\",\"\") "
   ]
  },
  {
   "cell_type": "code",
   "execution_count": 19,
   "id": "1c6cccd2",
   "metadata": {},
   "outputs": [
    {
     "name": "stderr",
     "output_type": "stream",
     "text": [
      "C:\\Users\\nourh\\AppData\\Local\\Temp\\ipykernel_14180\\3368200386.py:1: FutureWarning: The default value of regex will change from True to False in a future version.\n",
      "  ecar['Subtitle_Battery Electric Vehicle(kWh)'] = ecar['Subtitle_Battery Electric Vehicle(kWh)'].str.replace(\"Battery Electric Vehicle | \",\"\")\n"
     ]
    }
   ],
   "source": [
    "ecar['Subtitle_Battery Electric Vehicle(kWh)'] = ecar['Subtitle_Battery Electric Vehicle(kWh)'].str.replace(\"Battery Electric Vehicle | \",\"\") "
   ]
  },
  {
   "cell_type": "code",
   "execution_count": 20,
   "id": "1ca7bc46",
   "metadata": {},
   "outputs": [
    {
     "name": "stderr",
     "output_type": "stream",
     "text": [
      "C:\\Users\\nourh\\AppData\\Local\\Temp\\ipykernel_14180\\3082497455.py:1: FutureWarning: The default value of regex will change from True to False in a future version. In addition, single character regular expressions will *not* be treated as literal strings when regex=True.\n",
      "  ecar['Subtitle_Battery Electric Vehicle(kWh)'] = ecar['Subtitle_Battery Electric Vehicle(kWh)'].str.replace(\"|\",\"\")\n"
     ]
    }
   ],
   "source": [
    "ecar['Subtitle_Battery Electric Vehicle(kWh)'] = ecar['Subtitle_Battery Electric Vehicle(kWh)'].str.replace(\"|\",\"\") "
   ]
  },
  {
   "cell_type": "code",
   "execution_count": 21,
   "id": "24b734c0",
   "metadata": {},
   "outputs": [],
   "source": [
    "ecar['Range_in(km)'] = ecar['Range_in(km)'].str.replace(\"km\",\"\") "
   ]
  },
  {
   "cell_type": "code",
   "execution_count": 22,
   "id": "df66f551",
   "metadata": {},
   "outputs": [],
   "source": [
    "ecar['Acceleration_in(sec)'] = ecar['Acceleration_in(sec)'].str.replace(\" sec\",\"\") "
   ]
  },
  {
   "cell_type": "code",
   "execution_count": 23,
   "id": "6291f018",
   "metadata": {},
   "outputs": [],
   "source": [
    "ecar['TopSpeed_in(km/h)'] = ecar['TopSpeed_in(km/h)'].str.replace(\" km/h\",\"\") "
   ]
  },
  {
   "cell_type": "code",
   "execution_count": 24,
   "id": "d8fe9840",
   "metadata": {},
   "outputs": [],
   "source": [
    "ecar['Efficiency_in(Wh/km)'] = ecar['Efficiency_in(Wh/km)'].str.replace(\" Wh/km\",\"\") "
   ]
  },
  {
   "cell_type": "code",
   "execution_count": 25,
   "id": "e7b85da6",
   "metadata": {},
   "outputs": [],
   "source": [
    "ecar['FastChargeSpeed_in(km/h)'] = ecar['FastChargeSpeed_in(km/h)'].str.replace(\" km/h\",\"\") "
   ]
  },
  {
   "cell_type": "code",
   "execution_count": 26,
   "id": "e320a74c",
   "metadata": {},
   "outputs": [],
   "source": [
    "ecar['PriceinGermany_in(€)'] = ecar['PriceinGermany_in(€)'].str.replace(\"€\",\"\") "
   ]
  },
  {
   "cell_type": "code",
   "execution_count": 27,
   "id": "174dd7ff",
   "metadata": {},
   "outputs": [],
   "source": [
    "ecar['PriceinGermany_in(€)'] = ecar['PriceinGermany_in(€)'].str.replace(\",\",\"\").astype(float)"
   ]
  },
  {
   "cell_type": "code",
   "execution_count": 28,
   "id": "38c98c87",
   "metadata": {},
   "outputs": [],
   "source": [
    "ecar['PriceinUK_in(£)'] = ecar['PriceinUK_in(£)'].str.replace(\"£\",\"\") "
   ]
  },
  {
   "cell_type": "code",
   "execution_count": 29,
   "id": "e7b660a0",
   "metadata": {},
   "outputs": [],
   "source": [
    "ecar['PriceinUK_in(£)'] = ecar['PriceinUK_in(£)'].str.replace(\",\",\"\").astype(float)"
   ]
  },
  {
   "cell_type": "code",
   "execution_count": 30,
   "id": "3d1b524e",
   "metadata": {},
   "outputs": [
    {
     "data": {
      "text/html": [
       "<div>\n",
       "<style scoped>\n",
       "    .dataframe tbody tr th:only-of-type {\n",
       "        vertical-align: middle;\n",
       "    }\n",
       "\n",
       "    .dataframe tbody tr th {\n",
       "        vertical-align: top;\n",
       "    }\n",
       "\n",
       "    .dataframe thead th {\n",
       "        text-align: right;\n",
       "    }\n",
       "</style>\n",
       "<table border=\"1\" class=\"dataframe\">\n",
       "  <thead>\n",
       "    <tr style=\"text-align: right;\">\n",
       "      <th></th>\n",
       "      <th>Name</th>\n",
       "      <th>Subtitle_Battery Electric Vehicle(kWh)</th>\n",
       "      <th>Acceleration_in(sec)</th>\n",
       "      <th>TopSpeed_in(km/h)</th>\n",
       "      <th>Range_in(km)</th>\n",
       "      <th>Efficiency_in(Wh/km)</th>\n",
       "      <th>FastChargeSpeed_in(km/h)</th>\n",
       "      <th>Drive</th>\n",
       "      <th>NumberofSeats</th>\n",
       "      <th>PriceinGermany_in(€)</th>\n",
       "      <th>PriceinUK_in(£)</th>\n",
       "    </tr>\n",
       "  </thead>\n",
       "  <tbody>\n",
       "    <tr>\n",
       "      <th>0</th>\n",
       "      <td>Opel Ampera-e</td>\n",
       "      <td>58</td>\n",
       "      <td>7.3</td>\n",
       "      <td>150</td>\n",
       "      <td>335</td>\n",
       "      <td>173</td>\n",
       "      <td>210</td>\n",
       "      <td>Front Wheel Drive</td>\n",
       "      <td>5</td>\n",
       "      <td>42990.0</td>\n",
       "      <td>NaN</td>\n",
       "    </tr>\n",
       "    <tr>\n",
       "      <th>1</th>\n",
       "      <td>Renault Kangoo Maxi ZE 33</td>\n",
       "      <td>31</td>\n",
       "      <td>22.4</td>\n",
       "      <td>130</td>\n",
       "      <td>160</td>\n",
       "      <td>194</td>\n",
       "      <td>-</td>\n",
       "      <td>Front Wheel Drive</td>\n",
       "      <td>5</td>\n",
       "      <td>NaN</td>\n",
       "      <td>31680.0</td>\n",
       "    </tr>\n",
       "    <tr>\n",
       "      <th>2</th>\n",
       "      <td>Nissan Leaf</td>\n",
       "      <td>36</td>\n",
       "      <td>7.9</td>\n",
       "      <td>144</td>\n",
       "      <td>220</td>\n",
       "      <td>164</td>\n",
       "      <td>230</td>\n",
       "      <td>Front Wheel Drive</td>\n",
       "      <td>5</td>\n",
       "      <td>29990.0</td>\n",
       "      <td>25995.0</td>\n",
       "    </tr>\n",
       "    <tr>\n",
       "      <th>3</th>\n",
       "      <td>Audi e-tron Sportback 55 quattro</td>\n",
       "      <td>86.5</td>\n",
       "      <td>5.7</td>\n",
       "      <td>200</td>\n",
       "      <td>375</td>\n",
       "      <td>231</td>\n",
       "      <td>600</td>\n",
       "      <td>All Wheel Drive</td>\n",
       "      <td>5</td>\n",
       "      <td>NaN</td>\n",
       "      <td>79900.0</td>\n",
       "    </tr>\n",
       "    <tr>\n",
       "      <th>4</th>\n",
       "      <td>Porsche Taycan Turbo S</td>\n",
       "      <td>83.7</td>\n",
       "      <td>2.8</td>\n",
       "      <td>260</td>\n",
       "      <td>390</td>\n",
       "      <td>215</td>\n",
       "      <td>860</td>\n",
       "      <td>All Wheel Drive</td>\n",
       "      <td>4</td>\n",
       "      <td>186336.0</td>\n",
       "      <td>138830.0</td>\n",
       "    </tr>\n",
       "  </tbody>\n",
       "</table>\n",
       "</div>"
      ],
      "text/plain": [
       "                               Name Subtitle_Battery Electric Vehicle(kWh)  \\\n",
       "0                    Opel Ampera-e                                      58   \n",
       "1         Renault Kangoo Maxi ZE 33                                     31   \n",
       "2                      Nissan Leaf                                      36   \n",
       "3  Audi e-tron Sportback 55 quattro                                   86.5   \n",
       "4            Porsche Taycan Turbo S                                   83.7   \n",
       "\n",
       "  Acceleration_in(sec) TopSpeed_in(km/h) Range_in(km) Efficiency_in(Wh/km)  \\\n",
       "0                  7.3               150         335                   173   \n",
       "1                 22.4               130         160                   194   \n",
       "2                  7.9               144         220                   164   \n",
       "3                  5.7               200         375                   231   \n",
       "4                  2.8               260         390                   215   \n",
       "\n",
       "  FastChargeSpeed_in(km/h)              Drive  NumberofSeats  \\\n",
       "0                      210  Front Wheel Drive              5   \n",
       "1                        -  Front Wheel Drive              5   \n",
       "2                      230  Front Wheel Drive              5   \n",
       "3                      600    All Wheel Drive              5   \n",
       "4                      860    All Wheel Drive              4   \n",
       "\n",
       "   PriceinGermany_in(€)  PriceinUK_in(£)  \n",
       "0               42990.0              NaN  \n",
       "1                   NaN          31680.0  \n",
       "2               29990.0          25995.0  \n",
       "3                   NaN          79900.0  \n",
       "4              186336.0         138830.0  "
      ]
     },
     "execution_count": 30,
     "metadata": {},
     "output_type": "execute_result"
    }
   ],
   "source": [
    "ecar.head()"
   ]
  },
  {
   "cell_type": "code",
   "execution_count": 31,
   "id": "d7593450",
   "metadata": {},
   "outputs": [
    {
     "data": {
      "text/html": [
       "<div>\n",
       "<style scoped>\n",
       "    .dataframe tbody tr th:only-of-type {\n",
       "        vertical-align: middle;\n",
       "    }\n",
       "\n",
       "    .dataframe tbody tr th {\n",
       "        vertical-align: top;\n",
       "    }\n",
       "\n",
       "    .dataframe thead th {\n",
       "        text-align: right;\n",
       "    }\n",
       "</style>\n",
       "<table border=\"1\" class=\"dataframe\">\n",
       "  <thead>\n",
       "    <tr style=\"text-align: right;\">\n",
       "      <th></th>\n",
       "      <th>Name</th>\n",
       "      <th>Subtitle_Battery Electric Vehicle(kWh)</th>\n",
       "      <th>Acceleration_in(sec)</th>\n",
       "      <th>TopSpeed_in(km/h)</th>\n",
       "      <th>Range_in(km)</th>\n",
       "      <th>Efficiency_in(Wh/km)</th>\n",
       "      <th>FastChargeSpeed_in(km/h)</th>\n",
       "      <th>Drive</th>\n",
       "      <th>NumberofSeats</th>\n",
       "      <th>PriceinGermany_in(€)</th>\n",
       "      <th>PriceinUK_in(£)</th>\n",
       "    </tr>\n",
       "  </thead>\n",
       "  <tbody>\n",
       "    <tr>\n",
       "      <th>0</th>\n",
       "      <td>Opel Ampera-e</td>\n",
       "      <td>58</td>\n",
       "      <td>7.3</td>\n",
       "      <td>150</td>\n",
       "      <td>335</td>\n",
       "      <td>173</td>\n",
       "      <td>210</td>\n",
       "      <td>Front Wheel Drive</td>\n",
       "      <td>5</td>\n",
       "      <td>42990.0</td>\n",
       "      <td>NaN</td>\n",
       "    </tr>\n",
       "    <tr>\n",
       "      <th>1</th>\n",
       "      <td>Renault Kangoo Maxi ZE 33</td>\n",
       "      <td>31</td>\n",
       "      <td>22.4</td>\n",
       "      <td>130</td>\n",
       "      <td>160</td>\n",
       "      <td>194</td>\n",
       "      <td>-</td>\n",
       "      <td>Front Wheel Drive</td>\n",
       "      <td>5</td>\n",
       "      <td>NaN</td>\n",
       "      <td>31680.0</td>\n",
       "    </tr>\n",
       "    <tr>\n",
       "      <th>2</th>\n",
       "      <td>Nissan Leaf</td>\n",
       "      <td>36</td>\n",
       "      <td>7.9</td>\n",
       "      <td>144</td>\n",
       "      <td>220</td>\n",
       "      <td>164</td>\n",
       "      <td>230</td>\n",
       "      <td>Front Wheel Drive</td>\n",
       "      <td>5</td>\n",
       "      <td>29990.0</td>\n",
       "      <td>25995.0</td>\n",
       "    </tr>\n",
       "    <tr>\n",
       "      <th>3</th>\n",
       "      <td>Audi e-tron Sportback 55 quattro</td>\n",
       "      <td>86.5</td>\n",
       "      <td>5.7</td>\n",
       "      <td>200</td>\n",
       "      <td>375</td>\n",
       "      <td>231</td>\n",
       "      <td>600</td>\n",
       "      <td>All Wheel Drive</td>\n",
       "      <td>5</td>\n",
       "      <td>NaN</td>\n",
       "      <td>79900.0</td>\n",
       "    </tr>\n",
       "    <tr>\n",
       "      <th>4</th>\n",
       "      <td>Porsche Taycan Turbo S</td>\n",
       "      <td>83.7</td>\n",
       "      <td>2.8</td>\n",
       "      <td>260</td>\n",
       "      <td>390</td>\n",
       "      <td>215</td>\n",
       "      <td>860</td>\n",
       "      <td>All Wheel Drive</td>\n",
       "      <td>4</td>\n",
       "      <td>186336.0</td>\n",
       "      <td>138830.0</td>\n",
       "    </tr>\n",
       "  </tbody>\n",
       "</table>\n",
       "</div>"
      ],
      "text/plain": [
       "                               Name Subtitle_Battery Electric Vehicle(kWh)  \\\n",
       "0                    Opel Ampera-e                                      58   \n",
       "1         Renault Kangoo Maxi ZE 33                                     31   \n",
       "2                      Nissan Leaf                                      36   \n",
       "3  Audi e-tron Sportback 55 quattro                                   86.5   \n",
       "4            Porsche Taycan Turbo S                                   83.7   \n",
       "\n",
       "  Acceleration_in(sec) TopSpeed_in(km/h) Range_in(km) Efficiency_in(Wh/km)  \\\n",
       "0                  7.3               150         335                   173   \n",
       "1                 22.4               130         160                   194   \n",
       "2                  7.9               144         220                   164   \n",
       "3                  5.7               200         375                   231   \n",
       "4                  2.8               260         390                   215   \n",
       "\n",
       "  FastChargeSpeed_in(km/h)              Drive  NumberofSeats  \\\n",
       "0                      210  Front Wheel Drive              5   \n",
       "1                        -  Front Wheel Drive              5   \n",
       "2                      230  Front Wheel Drive              5   \n",
       "3                      600    All Wheel Drive              5   \n",
       "4                      860    All Wheel Drive              4   \n",
       "\n",
       "   PriceinGermany_in(€)  PriceinUK_in(£)  \n",
       "0               42990.0              NaN  \n",
       "1                   NaN          31680.0  \n",
       "2               29990.0          25995.0  \n",
       "3                   NaN          79900.0  \n",
       "4              186336.0         138830.0  "
      ]
     },
     "execution_count": 31,
     "metadata": {},
     "output_type": "execute_result"
    }
   ],
   "source": [
    "ecar.head()"
   ]
  },
  {
   "cell_type": "code",
   "execution_count": 32,
   "id": "523c0682",
   "metadata": {},
   "outputs": [],
   "source": [
    "for index in ecar.index:\n",
    "    if pd.isnull(ecar.loc[index,'PriceinGermany_in(€)']):\n",
    "        ecar.loc[index,'PriceinGermany_in(€)']=0.75*ecar.loc[index,'PriceinUK_in(£)']\n",
    "    if pd.isnull(ecar.loc[index,'PriceinUK_in(£)']):\n",
    "            ecar.loc[index,'PriceinUK_in(£)']=ecar.loc[index,'PriceinGermany_in(€)']/0.75\n"
   ]
  },
  {
   "cell_type": "code",
   "execution_count": 33,
   "id": "b8282f28",
   "metadata": {},
   "outputs": [
    {
     "data": {
      "text/plain": [
       "5    118\n",
       "7     32\n",
       "4     28\n",
       "2      2\n",
       "Name: NumberofSeats, dtype: int64"
      ]
     },
     "execution_count": 33,
     "metadata": {},
     "output_type": "execute_result"
    }
   ],
   "source": [
    "ecar['company_name']=ecar['Name'].str.split(\" \").str.get(0)\n",
    "ecar['NumberofSeats'].value_counts()[:5]"
   ]
  },
  {
   "cell_type": "code",
   "execution_count": 34,
   "id": "7ff5f115",
   "metadata": {},
   "outputs": [
    {
     "data": {
      "text/plain": [
       "<AxesSubplot:>"
      ]
     },
     "execution_count": 34,
     "metadata": {},
     "output_type": "execute_result"
    },
    {
     "data": {
      "image/png": "[encoded data removed]",
      "text/plain": [
       "<Figure size 432x288 with 1 Axes>"
      ]
     },
     "metadata": {
      "needs_background": "light"
     },
     "output_type": "display_data"
    }
   ],
   "source": [
    "import seaborn as sns\n",
    "sns.barplot(x=ecar['company_name'].value_counts()[:5].index,y=ecar['company_name'].value_counts()[:5].values)"
   ]
  },
  {
   "cell_type": "code",
   "execution_count": 35,
   "id": "54b230bb",
   "metadata": {},
   "outputs": [
    {
     "name": "stdout",
     "output_type": "stream",
     "text": [
      "<class 'pandas.core.frame.DataFrame'>\n",
      "RangeIndex: 180 entries, 0 to 179\n",
      "Data columns (total 12 columns):\n",
      " #   Column                                  Non-Null Count  Dtype  \n",
      "---  ------                                  --------------  -----  \n",
      " 0   Name                                    180 non-null    object \n",
      " 1   Subtitle_Battery Electric Vehicle(kWh)  180 non-null    object \n",
      " 2   Acceleration_in(sec)                    180 non-null    object \n",
      " 3   TopSpeed_in(km/h)                       180 non-null    object \n",
      " 4   Range_in(km)                            180 non-null    object \n",
      " 5   Efficiency_in(Wh/km)                    180 non-null    object \n",
      " 6   FastChargeSpeed_in(km/h)                180 non-null    object \n",
      " 7   Drive                                   180 non-null    object \n",
      " 8   NumberofSeats                           180 non-null    int64  \n",
      " 9   PriceinGermany_in(€)                    177 non-null    float64\n",
      " 10  PriceinUK_in(£)                         177 non-null    float64\n",
      " 11  company_name                            180 non-null    object \n",
      "dtypes: float64(2), int64(1), object(9)\n",
      "memory usage: 17.0+ KB\n"
     ]
    }
   ],
   "source": [
    "ecar.info()"
   ]
  },
  {
   "cell_type": "code",
   "execution_count": 36,
   "id": "53c85dd3",
   "metadata": {},
   "outputs": [
    {
     "data": {
      "text/plain": [
       "<AxesSubplot:xlabel='PriceinGermany_in(€)'>"
      ]
     },
     "execution_count": 36,
     "metadata": {},
     "output_type": "execute_result"
    },
    {
     "data": {
      "image/png": "[encoded data removed]",
      "text/plain": [
       "<Figure size 432x288 with 1 Axes>"
      ]
     },
     "metadata": {
      "needs_background": "light"
     },
     "output_type": "display_data"
    }
   ],
   "source": [
    "ecar['PriceinGermany_in(€)']=ecar['PriceinGermany_in(€)'].astype(float)\n",
    "#conveerting types to real types as to deal with mumbers\n",
    "sns.boxplot(x=ecar['PriceinGermany_in(€)'])"
   ]
  },
  {
   "cell_type": "raw",
   "id": "3fea96c5",
   "metadata": {},
   "source": []
  },
  {
   "cell_type": "code",
   "execution_count": 37,
   "id": "d317a443",
   "metadata": {
    "scrolled": true
   },
   "outputs": [
    {
     "ename": "TypeError",
     "evalue": "'<' not supported between instances of 'str' and 'int'",
     "output_type": "error",
     "traceback": [
      "\u001b[1;31m---------------------------------------------------------------------------\u001b[0m",
      "\u001b[1;31mTypeError\u001b[0m                                 Traceback (most recent call last)",
      "Input \u001b[1;32mIn [37]\u001b[0m, in \u001b[0;36m<cell line: 1>\u001b[1;34m()\u001b[0m\n\u001b[1;32m----> 1\u001b[0m condition\u001b[38;5;241m=\u001b[39m\u001b[43mecar\u001b[49m\u001b[43m[\u001b[49m\u001b[38;5;124;43m'\u001b[39;49m\u001b[38;5;124;43mAcceleration_in(sec)\u001b[39;49m\u001b[38;5;124;43m'\u001b[39;49m\u001b[43m]\u001b[49m\u001b[38;5;241;43m<\u001b[39;49m\u001b[38;5;241;43m5\u001b[39;49m\n\u001b[0;32m      2\u001b[0m ecar[condition][\u001b[38;5;124m'\u001b[39m\u001b[38;5;124mcompany_name\u001b[39m\u001b[38;5;124m'\u001b[39m]\u001b[38;5;241m.\u001b[39mvalue_counts()\n",
      "File \u001b[1;32m~\\anaconda3\\lib\\site-packages\\pandas\\core\\ops\\common.py:70\u001b[0m, in \u001b[0;36m_unpack_zerodim_and_defer.<locals>.new_method\u001b[1;34m(self, other)\u001b[0m\n\u001b[0;32m     66\u001b[0m             \u001b[38;5;28;01mreturn\u001b[39;00m \u001b[38;5;28mNotImplemented\u001b[39m\n\u001b[0;32m     68\u001b[0m other \u001b[38;5;241m=\u001b[39m item_from_zerodim(other)\n\u001b[1;32m---> 70\u001b[0m \u001b[38;5;28;01mreturn\u001b[39;00m \u001b[43mmethod\u001b[49m\u001b[43m(\u001b[49m\u001b[38;5;28;43mself\u001b[39;49m\u001b[43m,\u001b[49m\u001b[43m \u001b[49m\u001b[43mother\u001b[49m\u001b[43m)\u001b[49m\n",
      "File \u001b[1;32m~\\anaconda3\\lib\\site-packages\\pandas\\core\\arraylike.py:48\u001b[0m, in \u001b[0;36mOpsMixin.__lt__\u001b[1;34m(self, other)\u001b[0m\n\u001b[0;32m     46\u001b[0m \u001b[38;5;129m@unpack_zerodim_and_defer\u001b[39m(\u001b[38;5;124m\"\u001b[39m\u001b[38;5;124m__lt__\u001b[39m\u001b[38;5;124m\"\u001b[39m)\n\u001b[0;32m     47\u001b[0m \u001b[38;5;28;01mdef\u001b[39;00m \u001b[38;5;21m__lt__\u001b[39m(\u001b[38;5;28mself\u001b[39m, other):\n\u001b[1;32m---> 48\u001b[0m     \u001b[38;5;28;01mreturn\u001b[39;00m \u001b[38;5;28;43mself\u001b[39;49m\u001b[38;5;241;43m.\u001b[39;49m\u001b[43m_cmp_method\u001b[49m\u001b[43m(\u001b[49m\u001b[43mother\u001b[49m\u001b[43m,\u001b[49m\u001b[43m \u001b[49m\u001b[43moperator\u001b[49m\u001b[38;5;241;43m.\u001b[39;49m\u001b[43mlt\u001b[49m\u001b[43m)\u001b[49m\n",
      "File \u001b[1;32m~\\anaconda3\\lib\\site-packages\\pandas\\core\\series.py:5623\u001b[0m, in \u001b[0;36mSeries._cmp_method\u001b[1;34m(self, other, op)\u001b[0m\n\u001b[0;32m   5620\u001b[0m rvalues \u001b[38;5;241m=\u001b[39m extract_array(other, extract_numpy\u001b[38;5;241m=\u001b[39m\u001b[38;5;28;01mTrue\u001b[39;00m, extract_range\u001b[38;5;241m=\u001b[39m\u001b[38;5;28;01mTrue\u001b[39;00m)\n\u001b[0;32m   5622\u001b[0m \u001b[38;5;28;01mwith\u001b[39;00m np\u001b[38;5;241m.\u001b[39merrstate(\u001b[38;5;28mall\u001b[39m\u001b[38;5;241m=\u001b[39m\u001b[38;5;124m\"\u001b[39m\u001b[38;5;124mignore\u001b[39m\u001b[38;5;124m\"\u001b[39m):\n\u001b[1;32m-> 5623\u001b[0m     res_values \u001b[38;5;241m=\u001b[39m \u001b[43mops\u001b[49m\u001b[38;5;241;43m.\u001b[39;49m\u001b[43mcomparison_op\u001b[49m\u001b[43m(\u001b[49m\u001b[43mlvalues\u001b[49m\u001b[43m,\u001b[49m\u001b[43m \u001b[49m\u001b[43mrvalues\u001b[49m\u001b[43m,\u001b[49m\u001b[43m \u001b[49m\u001b[43mop\u001b[49m\u001b[43m)\u001b[49m\n\u001b[0;32m   5625\u001b[0m \u001b[38;5;28;01mreturn\u001b[39;00m \u001b[38;5;28mself\u001b[39m\u001b[38;5;241m.\u001b[39m_construct_result(res_values, name\u001b[38;5;241m=\u001b[39mres_name)\n",
      "File \u001b[1;32m~\\anaconda3\\lib\\site-packages\\pandas\\core\\ops\\array_ops.py:283\u001b[0m, in \u001b[0;36mcomparison_op\u001b[1;34m(left, right, op)\u001b[0m\n\u001b[0;32m    280\u001b[0m     \u001b[38;5;28;01mreturn\u001b[39;00m invalid_comparison(lvalues, rvalues, op)\n\u001b[0;32m    282\u001b[0m \u001b[38;5;28;01melif\u001b[39;00m is_object_dtype(lvalues\u001b[38;5;241m.\u001b[39mdtype) \u001b[38;5;129;01mor\u001b[39;00m \u001b[38;5;28misinstance\u001b[39m(rvalues, \u001b[38;5;28mstr\u001b[39m):\n\u001b[1;32m--> 283\u001b[0m     res_values \u001b[38;5;241m=\u001b[39m \u001b[43mcomp_method_OBJECT_ARRAY\u001b[49m\u001b[43m(\u001b[49m\u001b[43mop\u001b[49m\u001b[43m,\u001b[49m\u001b[43m \u001b[49m\u001b[43mlvalues\u001b[49m\u001b[43m,\u001b[49m\u001b[43m \u001b[49m\u001b[43mrvalues\u001b[49m\u001b[43m)\u001b[49m\n\u001b[0;32m    285\u001b[0m \u001b[38;5;28;01melse\u001b[39;00m:\n\u001b[0;32m    286\u001b[0m     res_values \u001b[38;5;241m=\u001b[39m _na_arithmetic_op(lvalues, rvalues, op, is_cmp\u001b[38;5;241m=\u001b[39m\u001b[38;5;28;01mTrue\u001b[39;00m)\n",
      "File \u001b[1;32m~\\anaconda3\\lib\\site-packages\\pandas\\core\\ops\\array_ops.py:73\u001b[0m, in \u001b[0;36mcomp_method_OBJECT_ARRAY\u001b[1;34m(op, x, y)\u001b[0m\n\u001b[0;32m     71\u001b[0m     result \u001b[38;5;241m=\u001b[39m libops\u001b[38;5;241m.\u001b[39mvec_compare(x\u001b[38;5;241m.\u001b[39mravel(), y\u001b[38;5;241m.\u001b[39mravel(), op)\n\u001b[0;32m     72\u001b[0m \u001b[38;5;28;01melse\u001b[39;00m:\n\u001b[1;32m---> 73\u001b[0m     result \u001b[38;5;241m=\u001b[39m \u001b[43mlibops\u001b[49m\u001b[38;5;241;43m.\u001b[39;49m\u001b[43mscalar_compare\u001b[49m\u001b[43m(\u001b[49m\u001b[43mx\u001b[49m\u001b[38;5;241;43m.\u001b[39;49m\u001b[43mravel\u001b[49m\u001b[43m(\u001b[49m\u001b[43m)\u001b[49m\u001b[43m,\u001b[49m\u001b[43m \u001b[49m\u001b[43my\u001b[49m\u001b[43m,\u001b[49m\u001b[43m \u001b[49m\u001b[43mop\u001b[49m\u001b[43m)\u001b[49m\n\u001b[0;32m     74\u001b[0m \u001b[38;5;28;01mreturn\u001b[39;00m result\u001b[38;5;241m.\u001b[39mreshape(x\u001b[38;5;241m.\u001b[39mshape)\n",
      "File \u001b[1;32m~\\anaconda3\\lib\\site-packages\\pandas\\_libs\\ops.pyx:107\u001b[0m, in \u001b[0;36mpandas._libs.ops.scalar_compare\u001b[1;34m()\u001b[0m\n",
      "\u001b[1;31mTypeError\u001b[0m: '<' not supported between instances of 'str' and 'int'"
     ]
    }
   ],
   "source": [
    "condition=ecar['Acceleration_in(sec)']<5\n",
    "ecar[condition]['company_name'].value_counts()"
   ]
  },
  {
   "cell_type": "code",
   "execution_count": 38,
   "id": "24a33013",
   "metadata": {},
   "outputs": [
    {
     "data": {
      "text/html": [
       "<div>\n",
       "<style scoped>\n",
       "    .dataframe tbody tr th:only-of-type {\n",
       "        vertical-align: middle;\n",
       "    }\n",
       "\n",
       "    .dataframe tbody tr th {\n",
       "        vertical-align: top;\n",
       "    }\n",
       "\n",
       "    .dataframe thead th {\n",
       "        text-align: right;\n",
       "    }\n",
       "</style>\n",
       "<table border=\"1\" class=\"dataframe\">\n",
       "  <thead>\n",
       "    <tr style=\"text-align: right;\">\n",
       "      <th></th>\n",
       "      <th>Name</th>\n",
       "      <th>Subtitle_Battery Electric Vehicle(kWh)</th>\n",
       "      <th>Acceleration_in(sec)</th>\n",
       "      <th>TopSpeed_in(km/h)</th>\n",
       "      <th>Range_in(km)</th>\n",
       "      <th>Efficiency_in(Wh/km)</th>\n",
       "      <th>FastChargeSpeed_in(km/h)</th>\n",
       "      <th>Drive</th>\n",
       "      <th>NumberofSeats</th>\n",
       "      <th>PriceinGermany_in(€)</th>\n",
       "      <th>PriceinUK_in(£)</th>\n",
       "      <th>company_name</th>\n",
       "    </tr>\n",
       "  </thead>\n",
       "  <tbody>\n",
       "    <tr>\n",
       "      <th>0</th>\n",
       "      <td>False</td>\n",
       "      <td>False</td>\n",
       "      <td>False</td>\n",
       "      <td>False</td>\n",
       "      <td>False</td>\n",
       "      <td>False</td>\n",
       "      <td>False</td>\n",
       "      <td>False</td>\n",
       "      <td>False</td>\n",
       "      <td>False</td>\n",
       "      <td>False</td>\n",
       "      <td>False</td>\n",
       "    </tr>\n",
       "    <tr>\n",
       "      <th>1</th>\n",
       "      <td>False</td>\n",
       "      <td>False</td>\n",
       "      <td>False</td>\n",
       "      <td>False</td>\n",
       "      <td>False</td>\n",
       "      <td>False</td>\n",
       "      <td>False</td>\n",
       "      <td>False</td>\n",
       "      <td>False</td>\n",
       "      <td>False</td>\n",
       "      <td>False</td>\n",
       "      <td>False</td>\n",
       "    </tr>\n",
       "    <tr>\n",
       "      <th>2</th>\n",
       "      <td>False</td>\n",
       "      <td>False</td>\n",
       "      <td>False</td>\n",
       "      <td>False</td>\n",
       "      <td>False</td>\n",
       "      <td>False</td>\n",
       "      <td>False</td>\n",
       "      <td>False</td>\n",
       "      <td>False</td>\n",
       "      <td>False</td>\n",
       "      <td>False</td>\n",
       "      <td>False</td>\n",
       "    </tr>\n",
       "    <tr>\n",
       "      <th>3</th>\n",
       "      <td>False</td>\n",
       "      <td>False</td>\n",
       "      <td>False</td>\n",
       "      <td>False</td>\n",
       "      <td>False</td>\n",
       "      <td>False</td>\n",
       "      <td>False</td>\n",
       "      <td>False</td>\n",
       "      <td>False</td>\n",
       "      <td>False</td>\n",
       "      <td>False</td>\n",
       "      <td>False</td>\n",
       "    </tr>\n",
       "    <tr>\n",
       "      <th>4</th>\n",
       "      <td>False</td>\n",
       "      <td>False</td>\n",
       "      <td>False</td>\n",
       "      <td>False</td>\n",
       "      <td>False</td>\n",
       "      <td>False</td>\n",
       "      <td>False</td>\n",
       "      <td>False</td>\n",
       "      <td>False</td>\n",
       "      <td>False</td>\n",
       "      <td>False</td>\n",
       "      <td>False</td>\n",
       "    </tr>\n",
       "    <tr>\n",
       "      <th>...</th>\n",
       "      <td>...</td>\n",
       "      <td>...</td>\n",
       "      <td>...</td>\n",
       "      <td>...</td>\n",
       "      <td>...</td>\n",
       "      <td>...</td>\n",
       "      <td>...</td>\n",
       "      <td>...</td>\n",
       "      <td>...</td>\n",
       "      <td>...</td>\n",
       "      <td>...</td>\n",
       "      <td>...</td>\n",
       "    </tr>\n",
       "    <tr>\n",
       "      <th>175</th>\n",
       "      <td>False</td>\n",
       "      <td>False</td>\n",
       "      <td>False</td>\n",
       "      <td>False</td>\n",
       "      <td>False</td>\n",
       "      <td>False</td>\n",
       "      <td>False</td>\n",
       "      <td>False</td>\n",
       "      <td>False</td>\n",
       "      <td>False</td>\n",
       "      <td>False</td>\n",
       "      <td>False</td>\n",
       "    </tr>\n",
       "    <tr>\n",
       "      <th>176</th>\n",
       "      <td>False</td>\n",
       "      <td>False</td>\n",
       "      <td>False</td>\n",
       "      <td>False</td>\n",
       "      <td>False</td>\n",
       "      <td>False</td>\n",
       "      <td>False</td>\n",
       "      <td>False</td>\n",
       "      <td>False</td>\n",
       "      <td>False</td>\n",
       "      <td>False</td>\n",
       "      <td>False</td>\n",
       "    </tr>\n",
       "    <tr>\n",
       "      <th>177</th>\n",
       "      <td>False</td>\n",
       "      <td>False</td>\n",
       "      <td>False</td>\n",
       "      <td>False</td>\n",
       "      <td>False</td>\n",
       "      <td>False</td>\n",
       "      <td>False</td>\n",
       "      <td>False</td>\n",
       "      <td>False</td>\n",
       "      <td>False</td>\n",
       "      <td>False</td>\n",
       "      <td>False</td>\n",
       "    </tr>\n",
       "    <tr>\n",
       "      <th>178</th>\n",
       "      <td>False</td>\n",
       "      <td>False</td>\n",
       "      <td>False</td>\n",
       "      <td>False</td>\n",
       "      <td>False</td>\n",
       "      <td>False</td>\n",
       "      <td>False</td>\n",
       "      <td>False</td>\n",
       "      <td>False</td>\n",
       "      <td>False</td>\n",
       "      <td>False</td>\n",
       "      <td>False</td>\n",
       "    </tr>\n",
       "    <tr>\n",
       "      <th>179</th>\n",
       "      <td>False</td>\n",
       "      <td>False</td>\n",
       "      <td>False</td>\n",
       "      <td>False</td>\n",
       "      <td>False</td>\n",
       "      <td>False</td>\n",
       "      <td>False</td>\n",
       "      <td>False</td>\n",
       "      <td>False</td>\n",
       "      <td>False</td>\n",
       "      <td>False</td>\n",
       "      <td>False</td>\n",
       "    </tr>\n",
       "  </tbody>\n",
       "</table>\n",
       "<p>180 rows × 12 columns</p>\n",
       "</div>"
      ],
      "text/plain": [
       "      Name  Subtitle_Battery Electric Vehicle(kWh)  Acceleration_in(sec)  \\\n",
       "0    False                                   False                 False   \n",
       "1    False                                   False                 False   \n",
       "2    False                                   False                 False   \n",
       "3    False                                   False                 False   \n",
       "4    False                                   False                 False   \n",
       "..     ...                                     ...                   ...   \n",
       "175  False                                   False                 False   \n",
       "176  False                                   False                 False   \n",
       "177  False                                   False                 False   \n",
       "178  False                                   False                 False   \n",
       "179  False                                   False                 False   \n",
       "\n",
       "     TopSpeed_in(km/h)  Range_in(km)  Efficiency_in(Wh/km)  \\\n",
       "0                False         False                 False   \n",
       "1                False         False                 False   \n",
       "2                False         False                 False   \n",
       "3                False         False                 False   \n",
       "4                False         False                 False   \n",
       "..                 ...           ...                   ...   \n",
       "175              False         False                 False   \n",
       "176              False         False                 False   \n",
       "177              False         False                 False   \n",
       "178              False         False                 False   \n",
       "179              False         False                 False   \n",
       "\n",
       "     FastChargeSpeed_in(km/h)  Drive  NumberofSeats  PriceinGermany_in(€)  \\\n",
       "0                       False  False          False                 False   \n",
       "1                       False  False          False                 False   \n",
       "2                       False  False          False                 False   \n",
       "3                       False  False          False                 False   \n",
       "4                       False  False          False                 False   \n",
       "..                        ...    ...            ...                   ...   \n",
       "175                     False  False          False                 False   \n",
       "176                     False  False          False                 False   \n",
       "177                     False  False          False                 False   \n",
       "178                     False  False          False                 False   \n",
       "179                     False  False          False                 False   \n",
       "\n",
       "     PriceinUK_in(£)  company_name  \n",
       "0              False         False  \n",
       "1              False         False  \n",
       "2              False         False  \n",
       "3              False         False  \n",
       "4              False         False  \n",
       "..               ...           ...  \n",
       "175            False         False  \n",
       "176            False         False  \n",
       "177            False         False  \n",
       "178            False         False  \n",
       "179            False         False  \n",
       "\n",
       "[180 rows x 12 columns]"
      ]
     },
     "execution_count": 38,
     "metadata": {},
     "output_type": "execute_result"
    }
   ],
   "source": [
    "ecar.isnull()"
   ]
  },
  {
   "cell_type": "code",
   "execution_count": 39,
   "id": "971d3b60",
   "metadata": {},
   "outputs": [
    {
     "data": {
      "text/plain": [
       "Name                                      0\n",
       "Subtitle_Battery Electric Vehicle(kWh)    0\n",
       "Acceleration_in(sec)                      0\n",
       "TopSpeed_in(km/h)                         0\n",
       "Range_in(km)                              0\n",
       "Efficiency_in(Wh/km)                      0\n",
       "FastChargeSpeed_in(km/h)                  0\n",
       "Drive                                     0\n",
       "NumberofSeats                             0\n",
       "PriceinGermany_in(€)                      3\n",
       "PriceinUK_in(£)                           3\n",
       "company_name                              0\n",
       "dtype: int64"
      ]
     },
     "execution_count": 39,
     "metadata": {},
     "output_type": "execute_result"
    }
   ],
   "source": [
    "ecar.isnull().sum()"
   ]
  },
  {
   "cell_type": "code",
   "execution_count": 40,
   "id": "22421fce",
   "metadata": {},
   "outputs": [
    {
     "data": {
      "text/plain": [
       "6"
      ]
     },
     "execution_count": 40,
     "metadata": {},
     "output_type": "execute_result"
    }
   ],
   "source": [
    "ecar.isnull().sum().sum()"
   ]
  },
  {
   "cell_type": "code",
   "execution_count": 41,
   "id": "67fcc3dc",
   "metadata": {},
   "outputs": [],
   "source": [
    "import matplotlib.pyplot as plt"
   ]
  },
  {
   "cell_type": "code",
   "execution_count": 42,
   "id": "2e281321",
   "metadata": {},
   "outputs": [
    {
     "data": {
      "text/plain": [
       "<AxesSubplot:>"
      ]
     },
     "execution_count": 42,
     "metadata": {},
     "output_type": "execute_result"
    },
    {
     "data": {
      "image/png": "[encoded data removed]",
      "text/plain": [
       "<Figure size 432x288 with 1 Axes>"
      ]
     },
     "metadata": {
      "needs_background": "light"
     },
     "output_type": "display_data"
    }
   ],
   "source": [
    "ecar.plot()"
   ]
  },
  {
   "cell_type": "code",
   "execution_count": 43,
   "id": "94450dba",
   "metadata": {},
   "outputs": [
    {
     "data": {
      "text/html": [
       "<div>\n",
       "<style scoped>\n",
       "    .dataframe tbody tr th:only-of-type {\n",
       "        vertical-align: middle;\n",
       "    }\n",
       "\n",
       "    .dataframe tbody tr th {\n",
       "        vertical-align: top;\n",
       "    }\n",
       "\n",
       "    .dataframe thead th {\n",
       "        text-align: right;\n",
       "    }\n",
       "</style>\n",
       "<table border=\"1\" class=\"dataframe\">\n",
       "  <thead>\n",
       "    <tr style=\"text-align: right;\">\n",
       "      <th></th>\n",
       "      <th>NumberofSeats</th>\n",
       "      <th>PriceinGermany_in(€)</th>\n",
       "      <th>PriceinUK_in(£)</th>\n",
       "    </tr>\n",
       "  </thead>\n",
       "  <tbody>\n",
       "    <tr>\n",
       "      <th>count</th>\n",
       "      <td>180.000000</td>\n",
       "      <td>177.000000</td>\n",
       "      <td>177.000000</td>\n",
       "    </tr>\n",
       "    <tr>\n",
       "      <th>mean</th>\n",
       "      <td>5.166667</td>\n",
       "      <td>57556.002825</td>\n",
       "      <td>56505.137476</td>\n",
       "    </tr>\n",
       "    <tr>\n",
       "      <th>std</th>\n",
       "      <td>0.971666</td>\n",
       "      <td>32439.446543</td>\n",
       "      <td>29351.096668</td>\n",
       "    </tr>\n",
       "    <tr>\n",
       "      <th>min</th>\n",
       "      <td>2.000000</td>\n",
       "      <td>18460.000000</td>\n",
       "      <td>19200.000000</td>\n",
       "    </tr>\n",
       "    <tr>\n",
       "      <th>25%</th>\n",
       "      <td>5.000000</td>\n",
       "      <td>36950.000000</td>\n",
       "      <td>32550.000000</td>\n",
       "    </tr>\n",
       "    <tr>\n",
       "      <th>50%</th>\n",
       "      <td>5.000000</td>\n",
       "      <td>50000.000000</td>\n",
       "      <td>49065.000000</td>\n",
       "    </tr>\n",
       "    <tr>\n",
       "      <th>75%</th>\n",
       "      <td>5.000000</td>\n",
       "      <td>62900.000000</td>\n",
       "      <td>70690.000000</td>\n",
       "    </tr>\n",
       "    <tr>\n",
       "      <th>max</th>\n",
       "      <td>7.000000</td>\n",
       "      <td>215000.000000</td>\n",
       "      <td>198666.666667</td>\n",
       "    </tr>\n",
       "  </tbody>\n",
       "</table>\n",
       "</div>"
      ],
      "text/plain": [
       "       NumberofSeats  PriceinGermany_in(€)  PriceinUK_in(£)\n",
       "count     180.000000            177.000000       177.000000\n",
       "mean        5.166667          57556.002825     56505.137476\n",
       "std         0.971666          32439.446543     29351.096668\n",
       "min         2.000000          18460.000000     19200.000000\n",
       "25%         5.000000          36950.000000     32550.000000\n",
       "50%         5.000000          50000.000000     49065.000000\n",
       "75%         5.000000          62900.000000     70690.000000\n",
       "max         7.000000         215000.000000    198666.666667"
      ]
     },
     "execution_count": 43,
     "metadata": {},
     "output_type": "execute_result"
    }
   ],
   "source": [
    "ecar.describe()"
   ]
  },
  {
   "cell_type": "code",
   "execution_count": 44,
   "id": "58e2ff77",
   "metadata": {},
   "outputs": [
    {
     "name": "stdout",
     "output_type": "stream",
     "text": [
      "<class 'pandas.core.frame.DataFrame'>\n",
      "RangeIndex: 180 entries, 0 to 179\n",
      "Data columns (total 12 columns):\n",
      " #   Column                                  Non-Null Count  Dtype  \n",
      "---  ------                                  --------------  -----  \n",
      " 0   Name                                    180 non-null    object \n",
      " 1   Subtitle_Battery Electric Vehicle(kWh)  180 non-null    object \n",
      " 2   Acceleration_in(sec)                    180 non-null    object \n",
      " 3   TopSpeed_in(km/h)                       180 non-null    object \n",
      " 4   Range_in(km)                            180 non-null    object \n",
      " 5   Efficiency_in(Wh/km)                    180 non-null    object \n",
      " 6   FastChargeSpeed_in(km/h)                180 non-null    object \n",
      " 7   Drive                                   180 non-null    object \n",
      " 8   NumberofSeats                           180 non-null    int64  \n",
      " 9   PriceinGermany_in(€)                    177 non-null    float64\n",
      " 10  PriceinUK_in(£)                         177 non-null    float64\n",
      " 11  company_name                            180 non-null    object \n",
      "dtypes: float64(2), int64(1), object(9)\n",
      "memory usage: 17.0+ KB\n"
     ]
    }
   ],
   "source": [
    "ecar.info()"
   ]
  },
  {
   "cell_type": "code",
   "execution_count": 45,
   "id": "46978483",
   "metadata": {},
   "outputs": [
    {
     "data": {
      "text/html": [
       "<div>\n",
       "<style scoped>\n",
       "    .dataframe tbody tr th:only-of-type {\n",
       "        vertical-align: middle;\n",
       "    }\n",
       "\n",
       "    .dataframe tbody tr th {\n",
       "        vertical-align: top;\n",
       "    }\n",
       "\n",
       "    .dataframe thead th {\n",
       "        text-align: right;\n",
       "    }\n",
       "</style>\n",
       "<table border=\"1\" class=\"dataframe\">\n",
       "  <thead>\n",
       "    <tr style=\"text-align: right;\">\n",
       "      <th></th>\n",
       "      <th>Name</th>\n",
       "      <th>Subtitle_Battery Electric Vehicle(kWh)</th>\n",
       "      <th>Acceleration_in(sec)</th>\n",
       "      <th>TopSpeed_in(km/h)</th>\n",
       "      <th>Range_in(km)</th>\n",
       "      <th>Efficiency_in(Wh/km)</th>\n",
       "      <th>FastChargeSpeed_in(km/h)</th>\n",
       "      <th>Drive</th>\n",
       "      <th>NumberofSeats</th>\n",
       "      <th>PriceinGermany_in(€)</th>\n",
       "      <th>PriceinUK_in(£)</th>\n",
       "      <th>company_name</th>\n",
       "    </tr>\n",
       "  </thead>\n",
       "  <tbody>\n",
       "    <tr>\n",
       "      <th>0</th>\n",
       "      <td>Opel Ampera-e</td>\n",
       "      <td>58</td>\n",
       "      <td>7.3</td>\n",
       "      <td>150</td>\n",
       "      <td>335</td>\n",
       "      <td>173</td>\n",
       "      <td>210</td>\n",
       "      <td>Front Wheel Drive</td>\n",
       "      <td>5</td>\n",
       "      <td>42990.0</td>\n",
       "      <td>57320.0</td>\n",
       "      <td>Opel</td>\n",
       "    </tr>\n",
       "    <tr>\n",
       "      <th>1</th>\n",
       "      <td>Renault Kangoo Maxi ZE 33</td>\n",
       "      <td>31</td>\n",
       "      <td>22.4</td>\n",
       "      <td>130</td>\n",
       "      <td>160</td>\n",
       "      <td>194</td>\n",
       "      <td>-</td>\n",
       "      <td>Front Wheel Drive</td>\n",
       "      <td>5</td>\n",
       "      <td>23760.0</td>\n",
       "      <td>31680.0</td>\n",
       "      <td>Renault</td>\n",
       "    </tr>\n",
       "  </tbody>\n",
       "</table>\n",
       "</div>"
      ],
      "text/plain": [
       "                        Name Subtitle_Battery Electric Vehicle(kWh)  \\\n",
       "0             Opel Ampera-e                                      58   \n",
       "1  Renault Kangoo Maxi ZE 33                                     31   \n",
       "\n",
       "  Acceleration_in(sec) TopSpeed_in(km/h) Range_in(km) Efficiency_in(Wh/km)  \\\n",
       "0                  7.3               150         335                   173   \n",
       "1                 22.4               130         160                   194   \n",
       "\n",
       "  FastChargeSpeed_in(km/h)              Drive  NumberofSeats  \\\n",
       "0                      210  Front Wheel Drive              5   \n",
       "1                        -  Front Wheel Drive              5   \n",
       "\n",
       "   PriceinGermany_in(€)  PriceinUK_in(£) company_name  \n",
       "0               42990.0          57320.0         Opel  \n",
       "1               23760.0          31680.0      Renault  "
      ]
     },
     "execution_count": 45,
     "metadata": {},
     "output_type": "execute_result"
    }
   ],
   "source": [
    "ecar.head(2)"
   ]
  },
  {
   "cell_type": "code",
   "execution_count": null,
   "id": "f0f06eaa",
   "metadata": {},
   "outputs": [],
   "source": [
    "\n"
   ]
  },
  {
   "cell_type": "code",
   "execution_count": 46,
   "id": "1c2faf5a",
   "metadata": {},
   "outputs": [
    {
     "data": {
      "text/plain": [
       "Name                                      0\n",
       "Subtitle_Battery Electric Vehicle(kWh)    0\n",
       "Acceleration_in(sec)                      0\n",
       "TopSpeed_in(km/h)                         0\n",
       "Range_in(km)                              0\n",
       "Efficiency_in(Wh/km)                      0\n",
       "FastChargeSpeed_in(km/h)                  0\n",
       "Drive                                     0\n",
       "NumberofSeats                             0\n",
       "PriceinGermany_in(€)                      3\n",
       "PriceinUK_in(£)                           3\n",
       "company_name                              0\n",
       "dtype: int64"
      ]
     },
     "execution_count": 46,
     "metadata": {},
     "output_type": "execute_result"
    }
   ],
   "source": [
    "ecar.isnull().sum()"
   ]
  },
  {
   "cell_type": "code",
   "execution_count": 47,
   "id": "08fc7f61",
   "metadata": {},
   "outputs": [
    {
     "data": {
      "text/html": [
       "<div>\n",
       "<style scoped>\n",
       "    .dataframe tbody tr th:only-of-type {\n",
       "        vertical-align: middle;\n",
       "    }\n",
       "\n",
       "    .dataframe tbody tr th {\n",
       "        vertical-align: top;\n",
       "    }\n",
       "\n",
       "    .dataframe thead th {\n",
       "        text-align: right;\n",
       "    }\n",
       "</style>\n",
       "<table border=\"1\" class=\"dataframe\">\n",
       "  <thead>\n",
       "    <tr style=\"text-align: right;\">\n",
       "      <th></th>\n",
       "      <th>Name</th>\n",
       "      <th>Subtitle_Battery Electric Vehicle(kWh)</th>\n",
       "      <th>Acceleration_in(sec)</th>\n",
       "      <th>TopSpeed_in(km/h)</th>\n",
       "      <th>Range_in(km)</th>\n",
       "      <th>Efficiency_in(Wh/km)</th>\n",
       "      <th>FastChargeSpeed_in(km/h)</th>\n",
       "      <th>Drive</th>\n",
       "      <th>NumberofSeats</th>\n",
       "      <th>PriceinGermany_in(€)</th>\n",
       "      <th>PriceinUK_in(£)</th>\n",
       "      <th>company_name</th>\n",
       "    </tr>\n",
       "  </thead>\n",
       "  <tbody>\n",
       "    <tr>\n",
       "      <th>0</th>\n",
       "      <td>Opel Ampera-e</td>\n",
       "      <td>58</td>\n",
       "      <td>7.3</td>\n",
       "      <td>150</td>\n",
       "      <td>335</td>\n",
       "      <td>173</td>\n",
       "      <td>210</td>\n",
       "      <td>Front Wheel Drive</td>\n",
       "      <td>5</td>\n",
       "      <td>42990.00</td>\n",
       "      <td>57320.000000</td>\n",
       "      <td>Opel</td>\n",
       "    </tr>\n",
       "    <tr>\n",
       "      <th>1</th>\n",
       "      <td>Renault Kangoo Maxi ZE 33</td>\n",
       "      <td>31</td>\n",
       "      <td>22.4</td>\n",
       "      <td>130</td>\n",
       "      <td>160</td>\n",
       "      <td>194</td>\n",
       "      <td>-</td>\n",
       "      <td>Front Wheel Drive</td>\n",
       "      <td>5</td>\n",
       "      <td>23760.00</td>\n",
       "      <td>31680.000000</td>\n",
       "      <td>Renault</td>\n",
       "    </tr>\n",
       "    <tr>\n",
       "      <th>2</th>\n",
       "      <td>Nissan Leaf</td>\n",
       "      <td>36</td>\n",
       "      <td>7.9</td>\n",
       "      <td>144</td>\n",
       "      <td>220</td>\n",
       "      <td>164</td>\n",
       "      <td>230</td>\n",
       "      <td>Front Wheel Drive</td>\n",
       "      <td>5</td>\n",
       "      <td>29990.00</td>\n",
       "      <td>25995.000000</td>\n",
       "      <td>Nissan</td>\n",
       "    </tr>\n",
       "    <tr>\n",
       "      <th>3</th>\n",
       "      <td>Audi e-tron Sportback 55 quattro</td>\n",
       "      <td>86.5</td>\n",
       "      <td>5.7</td>\n",
       "      <td>200</td>\n",
       "      <td>375</td>\n",
       "      <td>231</td>\n",
       "      <td>600</td>\n",
       "      <td>All Wheel Drive</td>\n",
       "      <td>5</td>\n",
       "      <td>59925.00</td>\n",
       "      <td>79900.000000</td>\n",
       "      <td>Audi</td>\n",
       "    </tr>\n",
       "    <tr>\n",
       "      <th>4</th>\n",
       "      <td>Porsche Taycan Turbo S</td>\n",
       "      <td>83.7</td>\n",
       "      <td>2.8</td>\n",
       "      <td>260</td>\n",
       "      <td>390</td>\n",
       "      <td>215</td>\n",
       "      <td>860</td>\n",
       "      <td>All Wheel Drive</td>\n",
       "      <td>4</td>\n",
       "      <td>186336.00</td>\n",
       "      <td>138830.000000</td>\n",
       "      <td>Porsche</td>\n",
       "    </tr>\n",
       "    <tr>\n",
       "      <th>...</th>\n",
       "      <td>...</td>\n",
       "      <td>...</td>\n",
       "      <td>...</td>\n",
       "      <td>...</td>\n",
       "      <td>...</td>\n",
       "      <td>...</td>\n",
       "      <td>...</td>\n",
       "      <td>...</td>\n",
       "      <td>...</td>\n",
       "      <td>...</td>\n",
       "      <td>...</td>\n",
       "      <td>...</td>\n",
       "    </tr>\n",
       "    <tr>\n",
       "      <th>175</th>\n",
       "      <td>MG Marvel R</td>\n",
       "      <td>65</td>\n",
       "      <td>7.9</td>\n",
       "      <td>200</td>\n",
       "      <td>340</td>\n",
       "      <td>191</td>\n",
       "      <td>390</td>\n",
       "      <td>Rear Wheel Drive</td>\n",
       "      <td>5</td>\n",
       "      <td>40000.00</td>\n",
       "      <td>53333.333333</td>\n",
       "      <td>MG</td>\n",
       "    </tr>\n",
       "    <tr>\n",
       "      <th>176</th>\n",
       "      <td>Tesla Model 3 Long Range Dual Motor</td>\n",
       "      <td>76</td>\n",
       "      <td>4.4</td>\n",
       "      <td>233</td>\n",
       "      <td>490</td>\n",
       "      <td>155</td>\n",
       "      <td>820</td>\n",
       "      <td>All Wheel Drive</td>\n",
       "      <td>5</td>\n",
       "      <td>53560.00</td>\n",
       "      <td>71413.333333</td>\n",
       "      <td>Tesla</td>\n",
       "    </tr>\n",
       "    <tr>\n",
       "      <th>177</th>\n",
       "      <td>MG MG5 EV Long Range</td>\n",
       "      <td>57</td>\n",
       "      <td>7.7</td>\n",
       "      <td>185</td>\n",
       "      <td>340</td>\n",
       "      <td>168</td>\n",
       "      <td>340</td>\n",
       "      <td>Front Wheel Drive</td>\n",
       "      <td>5</td>\n",
       "      <td>19871.25</td>\n",
       "      <td>26495.000000</td>\n",
       "      <td>MG</td>\n",
       "    </tr>\n",
       "    <tr>\n",
       "      <th>178</th>\n",
       "      <td>Audi Q4 e-tron 45 quattro</td>\n",
       "      <td>76.6</td>\n",
       "      <td>6.9</td>\n",
       "      <td>180</td>\n",
       "      <td>385</td>\n",
       "      <td>199</td>\n",
       "      <td>470</td>\n",
       "      <td>All Wheel Drive</td>\n",
       "      <td>5</td>\n",
       "      <td>50900.00</td>\n",
       "      <td>67866.666667</td>\n",
       "      <td>Audi</td>\n",
       "    </tr>\n",
       "    <tr>\n",
       "      <th>179</th>\n",
       "      <td>Audi Q4 Sportback e-tron 40</td>\n",
       "      <td>76.6</td>\n",
       "      <td>8.5</td>\n",
       "      <td>160</td>\n",
       "      <td>425</td>\n",
       "      <td>180</td>\n",
       "      <td>520</td>\n",
       "      <td>Rear Wheel Drive</td>\n",
       "      <td>5</td>\n",
       "      <td>49500.00</td>\n",
       "      <td>66000.000000</td>\n",
       "      <td>Audi</td>\n",
       "    </tr>\n",
       "  </tbody>\n",
       "</table>\n",
       "<p>177 rows × 12 columns</p>\n",
       "</div>"
      ],
      "text/plain": [
       "                                    Name  \\\n",
       "0                         Opel Ampera-e    \n",
       "1              Renault Kangoo Maxi ZE 33   \n",
       "2                           Nissan Leaf    \n",
       "3       Audi e-tron Sportback 55 quattro   \n",
       "4                 Porsche Taycan Turbo S   \n",
       "..                                   ...   \n",
       "175                         MG Marvel R    \n",
       "176  Tesla Model 3 Long Range Dual Motor   \n",
       "177                 MG MG5 EV Long Range   \n",
       "178            Audi Q4 e-tron 45 quattro   \n",
       "179          Audi Q4 Sportback e-tron 40   \n",
       "\n",
       "    Subtitle_Battery Electric Vehicle(kWh) Acceleration_in(sec)  \\\n",
       "0                                       58                  7.3   \n",
       "1                                       31                 22.4   \n",
       "2                                       36                  7.9   \n",
       "3                                     86.5                  5.7   \n",
       "4                                     83.7                  2.8   \n",
       "..                                     ...                  ...   \n",
       "175                                     65                  7.9   \n",
       "176                                     76                  4.4   \n",
       "177                                     57                  7.7   \n",
       "178                                   76.6                  6.9   \n",
       "179                                   76.6                  8.5   \n",
       "\n",
       "    TopSpeed_in(km/h) Range_in(km) Efficiency_in(Wh/km)  \\\n",
       "0                 150         335                   173   \n",
       "1                 130         160                   194   \n",
       "2                 144         220                   164   \n",
       "3                 200         375                   231   \n",
       "4                 260         390                   215   \n",
       "..                ...          ...                  ...   \n",
       "175               200         340                   191   \n",
       "176               233         490                   155   \n",
       "177               185         340                   168   \n",
       "178               180         385                   199   \n",
       "179               160         425                   180   \n",
       "\n",
       "    FastChargeSpeed_in(km/h)              Drive  NumberofSeats  \\\n",
       "0                        210  Front Wheel Drive              5   \n",
       "1                          -  Front Wheel Drive              5   \n",
       "2                        230  Front Wheel Drive              5   \n",
       "3                        600    All Wheel Drive              5   \n",
       "4                        860    All Wheel Drive              4   \n",
       "..                       ...                ...            ...   \n",
       "175                      390   Rear Wheel Drive              5   \n",
       "176                      820    All Wheel Drive              5   \n",
       "177                      340  Front Wheel Drive              5   \n",
       "178                      470    All Wheel Drive              5   \n",
       "179                      520   Rear Wheel Drive              5   \n",
       "\n",
       "     PriceinGermany_in(€)  PriceinUK_in(£) company_name  \n",
       "0                42990.00     57320.000000         Opel  \n",
       "1                23760.00     31680.000000      Renault  \n",
       "2                29990.00     25995.000000       Nissan  \n",
       "3                59925.00     79900.000000         Audi  \n",
       "4               186336.00    138830.000000      Porsche  \n",
       "..                    ...              ...          ...  \n",
       "175              40000.00     53333.333333           MG  \n",
       "176              53560.00     71413.333333        Tesla  \n",
       "177              19871.25     26495.000000           MG  \n",
       "178              50900.00     67866.666667         Audi  \n",
       "179              49500.00     66000.000000         Audi  \n",
       "\n",
       "[177 rows x 12 columns]"
      ]
     },
     "execution_count": 47,
     "metadata": {},
     "output_type": "execute_result"
    }
   ],
   "source": [
    "ecar.dropna()"
   ]
  },
  {
   "cell_type": "code",
   "execution_count": 52,
   "id": "3cd07928",
   "metadata": {},
   "outputs": [
    {
     "data": {
      "text/plain": [
       "Name                                      0\n",
       "Subtitle_Battery Electric Vehicle(kWh)    0\n",
       "Acceleration_in(sec)                      0\n",
       "TopSpeed_in(km/h)                         0\n",
       "Range_in(km)                              0\n",
       "Efficiency_in(Wh/km)                      0\n",
       "FastChargeSpeed_in(km/h)                  0\n",
       "Drive                                     0\n",
       "NumberofSeats                             0\n",
       "PriceinGermany_in(€)                      0\n",
       "PriceinUK_in(£)                           0\n",
       "company_name                              0\n",
       "dtype: int64"
      ]
     },
     "execution_count": 52,
     "metadata": {},
     "output_type": "execute_result"
    }
   ],
   "source": [
    "ecar.isnull().sum()"
   ]
  },
  {
   "cell_type": "code",
   "execution_count": 51,
   "id": "0222dc8b",
   "metadata": {},
   "outputs": [],
   "source": [
    "ecar=ecar.dropna(subset=['PriceinGermany_in(€)'])\n",
    "ecar=ecar.dropna(subset=['PriceinUK_in(£)'])"
   ]
  },
  {
   "cell_type": "code",
   "execution_count": 53,
   "id": "ba8b5f07",
   "metadata": {},
   "outputs": [],
   "source": [
    "ecar.to_csv('ecarbi.csv')"
   ]
  },
  {
   "cell_type": "code",
   "execution_count": null,
   "id": "dc329c25",
   "metadata": {},
   "outputs": [],
   "source": []
  }
 ],
 "metadata": {
  "kernelspec": {
   "display_name": "Python 3 (ipykernel)",
   "language": "python",
   "name": "python3"
  },
  "language_info": {
   "codemirror_mode": {
    "name": "ipython",
    "version": 3
   },
   "file_extension": ".py",
   "mimetype": "text/x-python",
   "name": "python",
   "nbconvert_exporter": "python",
   "pygments_lexer": "ipython3",
   "version": "3.9.12"
  }
 },
 "nbformat": 4,
 "nbformat_minor": 5
}
